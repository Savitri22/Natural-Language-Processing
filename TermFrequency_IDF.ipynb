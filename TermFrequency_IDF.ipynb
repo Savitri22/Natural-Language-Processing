{
 "cells": [
  {
   "cell_type": "code",
   "execution_count": 1,
   "id": "0d77c0fc",
   "metadata": {},
   "outputs": [],
   "source": [
    "paragraph = \"\"\"Thank you all so very much. Thank you to the Academy. Thank you to all of you in this room. I have to congratulate the other incredible nominees this year. The Revenant was the product of the tireless efforts of an unbelievable cast and crew. First off, to my brother in this endeavor, Mr. Tom Hardy. Tom, your talent on screen can only be surpassed by your friendship off screen â¦ thank you for creating a transcendent cinematic experience. Thank you to everybody at Fox and New Regency â¦ my entire team. I have to thank everyone from the very onset of my career â¦ To my parents; none of this would be possible without you. And to my friends, I love you dearly; you know who you are.\"\"\""
   ]
  },
  {
   "cell_type": "code",
   "execution_count": 2,
   "id": "c3fd2245",
   "metadata": {},
   "outputs": [
    {
     "data": {
      "text/plain": [
       "'Thank you all so very much. Thank you to the Academy. Thank you to all of you in this room. I have to congratulate the other incredible nominees this year. The Revenant was the product of the tireless efforts of an unbelievable cast and crew. First off, to my brother in this endeavor, Mr. Tom Hardy. Tom, your talent on screen can only be surpassed by your friendship off screen â\\x80¦ thank you for creating a transcendent cinematic experience. Thank you to everybody at Fox and New Regency â\\x80¦ my entire team. I have to thank everyone from the very onset of my career â\\x80¦ To my parents; none of this would be possible without you. And to my friends, I love you dearly; you know who you are.'"
      ]
     },
     "execution_count": 2,
     "metadata": {},
     "output_type": "execute_result"
    }
   ],
   "source": [
    "paragraph"
   ]
  },
  {
   "cell_type": "code",
   "execution_count": 3,
   "id": "f9ccd58b",
   "metadata": {},
   "outputs": [],
   "source": [
    "import numpy as np\n",
    "import re\n",
    "import nltk"
   ]
  },
  {
   "cell_type": "code",
   "execution_count": 4,
   "id": "c06c8b72",
   "metadata": {},
   "outputs": [],
   "source": [
    "dataset = nltk.sent_tokenize(paragraph)"
   ]
  },
  {
   "cell_type": "code",
   "execution_count": 5,
   "id": "fd8f1246",
   "metadata": {},
   "outputs": [
    {
     "data": {
      "text/plain": [
       "['Thank you all so very much.',\n",
       " 'Thank you to the Academy.',\n",
       " 'Thank you to all of you in this room.',\n",
       " 'I have to congratulate the other incredible nominees this year.',\n",
       " 'The Revenant was the product of the tireless efforts of an unbelievable cast and crew.',\n",
       " 'First off, to my brother in this endeavor, Mr. Tom Hardy.',\n",
       " 'Tom, your talent on screen can only be surpassed by your friendship off screen â\\x80¦ thank you for creating a transcendent cinematic experience.',\n",
       " 'Thank you to everybody at Fox and New Regency â\\x80¦ my entire team.',\n",
       " 'I have to thank everyone from the very onset of my career â\\x80¦ To my parents; none of this would be possible without you.',\n",
       " 'And to my friends, I love you dearly; you know who you are.']"
      ]
     },
     "execution_count": 5,
     "metadata": {},
     "output_type": "execute_result"
    }
   ],
   "source": [
    "dataset"
   ]
  },
  {
   "cell_type": "code",
   "execution_count": 6,
   "id": "7147de5a",
   "metadata": {},
   "outputs": [
    {
     "data": {
      "text/plain": [
       "10"
      ]
     },
     "execution_count": 6,
     "metadata": {},
     "output_type": "execute_result"
    }
   ],
   "source": [
    "len(dataset)"
   ]
  },
  {
   "cell_type": "code",
   "execution_count": 7,
   "id": "d8e41515",
   "metadata": {},
   "outputs": [],
   "source": [
    "for i in range(len(dataset)):\n",
    "    dataset[i] = dataset[i].lower()\n",
    "    dataset[i] = re.sub(r'\\W',' ',dataset[i])\n",
    "    dataset[i] = re.sub(r'\\s+$','',dataset[i])\n",
    "    dataset[i] = re.sub(r'\\s+',' ',dataset[i])"
   ]
  },
  {
   "cell_type": "code",
   "execution_count": 8,
   "id": "55a7dc76",
   "metadata": {},
   "outputs": [
    {
     "data": {
      "text/plain": [
       "['thank you all so very much',\n",
       " 'thank you to the academy',\n",
       " 'thank you to all of you in this room',\n",
       " 'i have to congratulate the other incredible nominees this year',\n",
       " 'the revenant was the product of the tireless efforts of an unbelievable cast and crew',\n",
       " 'first off to my brother in this endeavor mr tom hardy',\n",
       " 'tom your talent on screen can only be surpassed by your friendship off screen â thank you for creating a transcendent cinematic experience',\n",
       " 'thank you to everybody at fox and new regency â my entire team',\n",
       " 'i have to thank everyone from the very onset of my career â to my parents none of this would be possible without you',\n",
       " 'and to my friends i love you dearly you know who you are']"
      ]
     },
     "execution_count": 8,
     "metadata": {},
     "output_type": "execute_result"
    }
   ],
   "source": [
    "dataset"
   ]
  },
  {
   "cell_type": "code",
   "execution_count": 9,
   "id": "71f3c7e4",
   "metadata": {},
   "outputs": [],
   "source": [
    "word2count = {}\n",
    "for data in dataset: #first iter --- thank you all so very much\n",
    "    words = nltk.word_tokenize(data) #--- [thank,you ,all,....]\n",
    "    for word in words:# first iter -------> thank\n",
    "        if word not in word2count.keys():\n",
    "            word2count[word] = 1\n",
    "        else:\n",
    "            word2count[word] += 1"
   ]
  },
  {
   "cell_type": "code",
   "execution_count": 10,
   "id": "ca07d481",
   "metadata": {},
   "outputs": [
    {
     "data": {
      "text/plain": [
       "{'thank': 6,\n",
       " 'you': 10,\n",
       " 'all': 2,\n",
       " 'so': 1,\n",
       " 'very': 2,\n",
       " 'much': 1,\n",
       " 'to': 8,\n",
       " 'the': 6,\n",
       " 'academy': 1,\n",
       " 'of': 5,\n",
       " 'in': 2,\n",
       " 'this': 4,\n",
       " 'room': 1,\n",
       " 'i': 3,\n",
       " 'have': 2,\n",
       " 'congratulate': 1,\n",
       " 'other': 1,\n",
       " 'incredible': 1,\n",
       " 'nominees': 1,\n",
       " 'year': 1,\n",
       " 'revenant': 1,\n",
       " 'was': 1,\n",
       " 'product': 1,\n",
       " 'tireless': 1,\n",
       " 'efforts': 1,\n",
       " 'an': 1,\n",
       " 'unbelievable': 1,\n",
       " 'cast': 1,\n",
       " 'and': 3,\n",
       " 'crew': 1,\n",
       " 'first': 1,\n",
       " 'off': 2,\n",
       " 'my': 5,\n",
       " 'brother': 1,\n",
       " 'endeavor': 1,\n",
       " 'mr': 1,\n",
       " 'tom': 2,\n",
       " 'hardy': 1,\n",
       " 'your': 2,\n",
       " 'talent': 1,\n",
       " 'on': 1,\n",
       " 'screen': 2,\n",
       " 'can': 1,\n",
       " 'only': 1,\n",
       " 'be': 2,\n",
       " 'surpassed': 1,\n",
       " 'by': 1,\n",
       " 'friendship': 1,\n",
       " 'â': 3,\n",
       " 'for': 1,\n",
       " 'creating': 1,\n",
       " 'a': 1,\n",
       " 'transcendent': 1,\n",
       " 'cinematic': 1,\n",
       " 'experience': 1,\n",
       " 'everybody': 1,\n",
       " 'at': 1,\n",
       " 'fox': 1,\n",
       " 'new': 1,\n",
       " 'regency': 1,\n",
       " 'entire': 1,\n",
       " 'team': 1,\n",
       " 'everyone': 1,\n",
       " 'from': 1,\n",
       " 'onset': 1,\n",
       " 'career': 1,\n",
       " 'parents': 1,\n",
       " 'none': 1,\n",
       " 'would': 1,\n",
       " 'possible': 1,\n",
       " 'without': 1,\n",
       " 'friends': 1,\n",
       " 'love': 1,\n",
       " 'dearly': 1,\n",
       " 'know': 1,\n",
       " 'who': 1,\n",
       " 'are': 1}"
      ]
     },
     "execution_count": 10,
     "metadata": {},
     "output_type": "execute_result"
    }
   ],
   "source": [
    "word2count"
   ]
  },
  {
   "cell_type": "code",
   "execution_count": 11,
   "id": "8a17f85b",
   "metadata": {},
   "outputs": [],
   "source": [
    "import heapq\n",
    "freq_words = heapq.nlargest(20,word2count,key=word2count.get)"
   ]
  },
  {
   "cell_type": "code",
   "execution_count": 12,
   "id": "bf966cf9",
   "metadata": {},
   "outputs": [
    {
     "data": {
      "text/plain": [
       "['you',\n",
       " 'to',\n",
       " 'thank',\n",
       " 'the',\n",
       " 'of',\n",
       " 'my',\n",
       " 'this',\n",
       " 'i',\n",
       " 'and',\n",
       " 'â',\n",
       " 'all',\n",
       " 'very',\n",
       " 'in',\n",
       " 'have',\n",
       " 'off',\n",
       " 'tom',\n",
       " 'your',\n",
       " 'screen',\n",
       " 'be',\n",
       " 'so']"
      ]
     },
     "execution_count": 12,
     "metadata": {},
     "output_type": "execute_result"
    }
   ],
   "source": [
    "freq_words"
   ]
  },
  {
   "cell_type": "code",
   "execution_count": 13,
   "id": "e1a12c47",
   "metadata": {},
   "outputs": [],
   "source": [
    "# Idf - Inverse Document Frquency"
   ]
  },
  {
   "cell_type": "code",
   "execution_count": 14,
   "id": "56b7e3d7",
   "metadata": {},
   "outputs": [],
   "source": [
    "word_idfs = {}\n",
    "for word in freq_words:\n",
    "    doc_count = 0\n",
    "    for data in dataset:\n",
    "        if word in nltk.word_tokenize(data):\n",
    "            doc_count += 1\n",
    "    word_idfs[word] = np.log((len(dataset)/doc_count)+1)"
   ]
  },
  {
   "cell_type": "code",
   "execution_count": 15,
   "id": "6a5b3466",
   "metadata": {},
   "outputs": [
    {
     "data": {
      "text/plain": [
       "{'you': 0.8873031950009029,\n",
       " 'to': 0.8873031950009029,\n",
       " 'thank': 0.9808292530117263,\n",
       " 'the': 1.252762968495368,\n",
       " 'of': 1.4663370687934272,\n",
       " 'my': 1.252762968495368,\n",
       " 'this': 1.252762968495368,\n",
       " 'i': 1.4663370687934272,\n",
       " 'and': 1.4663370687934272,\n",
       " 'â': 1.4663370687934272,\n",
       " 'all': 1.791759469228055,\n",
       " 'very': 1.791759469228055,\n",
       " 'in': 1.791759469228055,\n",
       " 'have': 1.791759469228055,\n",
       " 'off': 1.791759469228055,\n",
       " 'tom': 1.791759469228055,\n",
       " 'your': 2.3978952727983707,\n",
       " 'screen': 2.3978952727983707,\n",
       " 'be': 1.791759469228055,\n",
       " 'so': 2.3978952727983707}"
      ]
     },
     "execution_count": 15,
     "metadata": {},
     "output_type": "execute_result"
    }
   ],
   "source": [
    "word_idfs"
   ]
  },
  {
   "cell_type": "code",
   "execution_count": 16,
   "id": "3f780684",
   "metadata": {},
   "outputs": [],
   "source": [
    "# TF  - Term Frequency"
   ]
  },
  {
   "cell_type": "code",
   "execution_count": 17,
   "id": "51ceed5e",
   "metadata": {},
   "outputs": [],
   "source": [
    "tf_matrix = {}\n",
    "for word in freq_words: # you\n",
    "    doc_tf = []\n",
    "    for data in dataset: # thak yo all very so much\n",
    "        freqency = 0\n",
    "        for w in nltk.word_tokenize(data): #[thank,you,all,very,so,much]\n",
    "            if w == word:\n",
    "                freqency =+ 1\n",
    "        tf_word = freqency/len(nltk.word_tokenize(data))\n",
    "        doc_tf.append(tf_word)\n",
    "    tf_matrix[word] = doc_tf"
   ]
  },
  {
   "cell_type": "code",
   "execution_count": 18,
   "id": "1011f3d4",
   "metadata": {},
   "outputs": [
    {
     "data": {
      "text/plain": [
       "{'you': [0.16666666666666666,\n",
       "  0.2,\n",
       "  0.1111111111111111,\n",
       "  0.0,\n",
       "  0.0,\n",
       "  0.0,\n",
       "  0.043478260869565216,\n",
       "  0.07692307692307693,\n",
       "  0.041666666666666664,\n",
       "  0.07692307692307693],\n",
       " 'to': [0.0,\n",
       "  0.2,\n",
       "  0.1111111111111111,\n",
       "  0.1,\n",
       "  0.0,\n",
       "  0.09090909090909091,\n",
       "  0.0,\n",
       "  0.07692307692307693,\n",
       "  0.041666666666666664,\n",
       "  0.07692307692307693],\n",
       " 'thank': [0.16666666666666666,\n",
       "  0.2,\n",
       "  0.1111111111111111,\n",
       "  0.0,\n",
       "  0.0,\n",
       "  0.0,\n",
       "  0.043478260869565216,\n",
       "  0.07692307692307693,\n",
       "  0.041666666666666664,\n",
       "  0.0],\n",
       " 'the': [0.0,\n",
       "  0.2,\n",
       "  0.0,\n",
       "  0.1,\n",
       "  0.06666666666666667,\n",
       "  0.0,\n",
       "  0.0,\n",
       "  0.0,\n",
       "  0.041666666666666664,\n",
       "  0.0],\n",
       " 'of': [0.0,\n",
       "  0.0,\n",
       "  0.1111111111111111,\n",
       "  0.0,\n",
       "  0.06666666666666667,\n",
       "  0.0,\n",
       "  0.0,\n",
       "  0.0,\n",
       "  0.041666666666666664,\n",
       "  0.0],\n",
       " 'my': [0.0,\n",
       "  0.0,\n",
       "  0.0,\n",
       "  0.0,\n",
       "  0.0,\n",
       "  0.09090909090909091,\n",
       "  0.0,\n",
       "  0.07692307692307693,\n",
       "  0.041666666666666664,\n",
       "  0.07692307692307693],\n",
       " 'this': [0.0,\n",
       "  0.0,\n",
       "  0.1111111111111111,\n",
       "  0.1,\n",
       "  0.0,\n",
       "  0.09090909090909091,\n",
       "  0.0,\n",
       "  0.0,\n",
       "  0.041666666666666664,\n",
       "  0.0],\n",
       " 'i': [0.0,\n",
       "  0.0,\n",
       "  0.0,\n",
       "  0.1,\n",
       "  0.0,\n",
       "  0.0,\n",
       "  0.0,\n",
       "  0.0,\n",
       "  0.041666666666666664,\n",
       "  0.07692307692307693],\n",
       " 'and': [0.0,\n",
       "  0.0,\n",
       "  0.0,\n",
       "  0.0,\n",
       "  0.06666666666666667,\n",
       "  0.0,\n",
       "  0.0,\n",
       "  0.07692307692307693,\n",
       "  0.0,\n",
       "  0.07692307692307693],\n",
       " 'â': [0.0,\n",
       "  0.0,\n",
       "  0.0,\n",
       "  0.0,\n",
       "  0.0,\n",
       "  0.0,\n",
       "  0.043478260869565216,\n",
       "  0.07692307692307693,\n",
       "  0.041666666666666664,\n",
       "  0.0],\n",
       " 'all': [0.16666666666666666,\n",
       "  0.0,\n",
       "  0.1111111111111111,\n",
       "  0.0,\n",
       "  0.0,\n",
       "  0.0,\n",
       "  0.0,\n",
       "  0.0,\n",
       "  0.0,\n",
       "  0.0],\n",
       " 'very': [0.16666666666666666,\n",
       "  0.0,\n",
       "  0.0,\n",
       "  0.0,\n",
       "  0.0,\n",
       "  0.0,\n",
       "  0.0,\n",
       "  0.0,\n",
       "  0.041666666666666664,\n",
       "  0.0],\n",
       " 'in': [0.0,\n",
       "  0.0,\n",
       "  0.1111111111111111,\n",
       "  0.0,\n",
       "  0.0,\n",
       "  0.09090909090909091,\n",
       "  0.0,\n",
       "  0.0,\n",
       "  0.0,\n",
       "  0.0],\n",
       " 'have': [0.0, 0.0, 0.0, 0.1, 0.0, 0.0, 0.0, 0.0, 0.041666666666666664, 0.0],\n",
       " 'off': [0.0,\n",
       "  0.0,\n",
       "  0.0,\n",
       "  0.0,\n",
       "  0.0,\n",
       "  0.09090909090909091,\n",
       "  0.043478260869565216,\n",
       "  0.0,\n",
       "  0.0,\n",
       "  0.0],\n",
       " 'tom': [0.0,\n",
       "  0.0,\n",
       "  0.0,\n",
       "  0.0,\n",
       "  0.0,\n",
       "  0.09090909090909091,\n",
       "  0.043478260869565216,\n",
       "  0.0,\n",
       "  0.0,\n",
       "  0.0],\n",
       " 'your': [0.0, 0.0, 0.0, 0.0, 0.0, 0.0, 0.043478260869565216, 0.0, 0.0, 0.0],\n",
       " 'screen': [0.0, 0.0, 0.0, 0.0, 0.0, 0.0, 0.043478260869565216, 0.0, 0.0, 0.0],\n",
       " 'be': [0.0,\n",
       "  0.0,\n",
       "  0.0,\n",
       "  0.0,\n",
       "  0.0,\n",
       "  0.0,\n",
       "  0.043478260869565216,\n",
       "  0.0,\n",
       "  0.041666666666666664,\n",
       "  0.0],\n",
       " 'so': [0.16666666666666666, 0.0, 0.0, 0.0, 0.0, 0.0, 0.0, 0.0, 0.0, 0.0]}"
      ]
     },
     "execution_count": 18,
     "metadata": {},
     "output_type": "execute_result"
    }
   ],
   "source": [
    "tf_matrix"
   ]
  },
  {
   "cell_type": "code",
   "execution_count": 19,
   "id": "52131653",
   "metadata": {},
   "outputs": [],
   "source": [
    "# TF-IDF"
   ]
  },
  {
   "cell_type": "code",
   "execution_count": 20,
   "id": "fcfe2bde",
   "metadata": {},
   "outputs": [],
   "source": [
    "tfidf_matrix = []\n",
    "for word in tf_matrix.keys():\n",
    "    tfidf = []\n",
    "    for value in tf_matrix[word]:\n",
    "        score = value*word_idfs[word]\n",
    "        tfidf.append(score)\n",
    "    tfidf_matrix.append(tfidf)"
   ]
  },
  {
   "cell_type": "code",
   "execution_count": 21,
   "id": "eb20a48f",
   "metadata": {},
   "outputs": [
    {
     "data": {
      "text/plain": [
       "[[0.1478838658334838,\n",
       "  0.1774606390001806,\n",
       "  0.09858924388898921,\n",
       "  0.0,\n",
       "  0.0,\n",
       "  0.0,\n",
       "  0.03857839978264795,\n",
       "  0.06825409192314638,\n",
       "  0.03697096645837095,\n",
       "  0.06825409192314638],\n",
       " [0.0,\n",
       "  0.1774606390001806,\n",
       "  0.09858924388898921,\n",
       "  0.0887303195000903,\n",
       "  0.0,\n",
       "  0.08066392681826391,\n",
       "  0.0,\n",
       "  0.06825409192314638,\n",
       "  0.03697096645837095,\n",
       "  0.06825409192314638],\n",
       " [0.16347154216862103,\n",
       "  0.19616585060234526,\n",
       "  0.10898102811241403,\n",
       "  0.0,\n",
       "  0.0,\n",
       "  0.0,\n",
       "  0.04264475013094462,\n",
       "  0.0754484040778251,\n",
       "  0.04086788554215526,\n",
       "  0.0],\n",
       " [0.0,\n",
       "  0.2505525936990736,\n",
       "  0.0,\n",
       "  0.1252762968495368,\n",
       "  0.08351753123302454,\n",
       "  0.0,\n",
       "  0.0,\n",
       "  0.0,\n",
       "  0.05219845702064033,\n",
       "  0.0],\n",
       " [0.0,\n",
       "  0.0,\n",
       "  0.16292634097704745,\n",
       "  0.0,\n",
       "  0.09775580458622848,\n",
       "  0.0,\n",
       "  0.0,\n",
       "  0.0,\n",
       "  0.0610973778663928,\n",
       "  0.0],\n",
       " [0.0,\n",
       "  0.0,\n",
       "  0.0,\n",
       "  0.0,\n",
       "  0.0,\n",
       "  0.11388754259048801,\n",
       "  0.0,\n",
       "  0.0963663821919514,\n",
       "  0.05219845702064033,\n",
       "  0.0963663821919514],\n",
       " [0.0,\n",
       "  0.0,\n",
       "  0.1391958853883742,\n",
       "  0.1252762968495368,\n",
       "  0.0,\n",
       "  0.11388754259048801,\n",
       "  0.0,\n",
       "  0.0,\n",
       "  0.05219845702064033,\n",
       "  0.0],\n",
       " [0.0,\n",
       "  0.0,\n",
       "  0.0,\n",
       "  0.1466337068793427,\n",
       "  0.0,\n",
       "  0.0,\n",
       "  0.0,\n",
       "  0.0,\n",
       "  0.0610973778663928,\n",
       "  0.11279515913795594],\n",
       " [0.0,\n",
       "  0.0,\n",
       "  0.0,\n",
       "  0.0,\n",
       "  0.09775580458622848,\n",
       "  0.0,\n",
       "  0.0,\n",
       "  0.11279515913795594,\n",
       "  0.0,\n",
       "  0.11279515913795594],\n",
       " [0.0,\n",
       "  0.0,\n",
       "  0.0,\n",
       "  0.0,\n",
       "  0.0,\n",
       "  0.0,\n",
       "  0.06375378559971423,\n",
       "  0.11279515913795594,\n",
       "  0.0610973778663928,\n",
       "  0.0],\n",
       " [0.2986265782046758,\n",
       "  0.0,\n",
       "  0.19908438546978388,\n",
       "  0.0,\n",
       "  0.0,\n",
       "  0.0,\n",
       "  0.0,\n",
       "  0.0,\n",
       "  0.0,\n",
       "  0.0],\n",
       " [0.2986265782046758,\n",
       "  0.0,\n",
       "  0.0,\n",
       "  0.0,\n",
       "  0.0,\n",
       "  0.0,\n",
       "  0.0,\n",
       "  0.0,\n",
       "  0.07465664455116895,\n",
       "  0.0],\n",
       " [0.0,\n",
       "  0.0,\n",
       "  0.19908438546978388,\n",
       "  0.0,\n",
       "  0.0,\n",
       "  0.16288722447527773,\n",
       "  0.0,\n",
       "  0.0,\n",
       "  0.0,\n",
       "  0.0],\n",
       " [0.0,\n",
       "  0.0,\n",
       "  0.0,\n",
       "  0.1791759469228055,\n",
       "  0.0,\n",
       "  0.0,\n",
       "  0.0,\n",
       "  0.0,\n",
       "  0.07465664455116895,\n",
       "  0.0],\n",
       " [0.0,\n",
       "  0.0,\n",
       "  0.0,\n",
       "  0.0,\n",
       "  0.0,\n",
       "  0.16288722447527773,\n",
       "  0.07790258561861109,\n",
       "  0.0,\n",
       "  0.0,\n",
       "  0.0],\n",
       " [0.0,\n",
       "  0.0,\n",
       "  0.0,\n",
       "  0.0,\n",
       "  0.0,\n",
       "  0.16288722447527773,\n",
       "  0.07790258561861109,\n",
       "  0.0,\n",
       "  0.0,\n",
       "  0.0],\n",
       " [0.0, 0.0, 0.0, 0.0, 0.0, 0.0, 0.10425631620862481, 0.0, 0.0, 0.0],\n",
       " [0.0, 0.0, 0.0, 0.0, 0.0, 0.0, 0.10425631620862481, 0.0, 0.0, 0.0],\n",
       " [0.0,\n",
       "  0.0,\n",
       "  0.0,\n",
       "  0.0,\n",
       "  0.0,\n",
       "  0.0,\n",
       "  0.07790258561861109,\n",
       "  0.0,\n",
       "  0.07465664455116895,\n",
       "  0.0],\n",
       " [0.39964921213306176, 0.0, 0.0, 0.0, 0.0, 0.0, 0.0, 0.0, 0.0, 0.0]]"
      ]
     },
     "execution_count": 21,
     "metadata": {},
     "output_type": "execute_result"
    }
   ],
   "source": [
    "tfidf_matrix"
   ]
  },
  {
   "cell_type": "code",
   "execution_count": 22,
   "id": "2e6683a9",
   "metadata": {},
   "outputs": [],
   "source": [
    "X = np.asarray(tfidf_matrix)"
   ]
  },
  {
   "cell_type": "code",
   "execution_count": 23,
   "id": "15e948f5",
   "metadata": {},
   "outputs": [
    {
     "data": {
      "text/plain": [
       "array([[0.14788387, 0.17746064, 0.09858924, 0.        , 0.        ,\n",
       "        0.        , 0.0385784 , 0.06825409, 0.03697097, 0.06825409],\n",
       "       [0.        , 0.17746064, 0.09858924, 0.08873032, 0.        ,\n",
       "        0.08066393, 0.        , 0.06825409, 0.03697097, 0.06825409],\n",
       "       [0.16347154, 0.19616585, 0.10898103, 0.        , 0.        ,\n",
       "        0.        , 0.04264475, 0.0754484 , 0.04086789, 0.        ],\n",
       "       [0.        , 0.25055259, 0.        , 0.1252763 , 0.08351753,\n",
       "        0.        , 0.        , 0.        , 0.05219846, 0.        ],\n",
       "       [0.        , 0.        , 0.16292634, 0.        , 0.0977558 ,\n",
       "        0.        , 0.        , 0.        , 0.06109738, 0.        ],\n",
       "       [0.        , 0.        , 0.        , 0.        , 0.        ,\n",
       "        0.11388754, 0.        , 0.09636638, 0.05219846, 0.09636638],\n",
       "       [0.        , 0.        , 0.13919589, 0.1252763 , 0.        ,\n",
       "        0.11388754, 0.        , 0.        , 0.05219846, 0.        ],\n",
       "       [0.        , 0.        , 0.        , 0.14663371, 0.        ,\n",
       "        0.        , 0.        , 0.        , 0.06109738, 0.11279516],\n",
       "       [0.        , 0.        , 0.        , 0.        , 0.0977558 ,\n",
       "        0.        , 0.        , 0.11279516, 0.        , 0.11279516],\n",
       "       [0.        , 0.        , 0.        , 0.        , 0.        ,\n",
       "        0.        , 0.06375379, 0.11279516, 0.06109738, 0.        ],\n",
       "       [0.29862658, 0.        , 0.19908439, 0.        , 0.        ,\n",
       "        0.        , 0.        , 0.        , 0.        , 0.        ],\n",
       "       [0.29862658, 0.        , 0.        , 0.        , 0.        ,\n",
       "        0.        , 0.        , 0.        , 0.07465664, 0.        ],\n",
       "       [0.        , 0.        , 0.19908439, 0.        , 0.        ,\n",
       "        0.16288722, 0.        , 0.        , 0.        , 0.        ],\n",
       "       [0.        , 0.        , 0.        , 0.17917595, 0.        ,\n",
       "        0.        , 0.        , 0.        , 0.07465664, 0.        ],\n",
       "       [0.        , 0.        , 0.        , 0.        , 0.        ,\n",
       "        0.16288722, 0.07790259, 0.        , 0.        , 0.        ],\n",
       "       [0.        , 0.        , 0.        , 0.        , 0.        ,\n",
       "        0.16288722, 0.07790259, 0.        , 0.        , 0.        ],\n",
       "       [0.        , 0.        , 0.        , 0.        , 0.        ,\n",
       "        0.        , 0.10425632, 0.        , 0.        , 0.        ],\n",
       "       [0.        , 0.        , 0.        , 0.        , 0.        ,\n",
       "        0.        , 0.10425632, 0.        , 0.        , 0.        ],\n",
       "       [0.        , 0.        , 0.        , 0.        , 0.        ,\n",
       "        0.        , 0.07790259, 0.        , 0.07465664, 0.        ],\n",
       "       [0.39964921, 0.        , 0.        , 0.        , 0.        ,\n",
       "        0.        , 0.        , 0.        , 0.        , 0.        ]])"
      ]
     },
     "execution_count": 23,
     "metadata": {},
     "output_type": "execute_result"
    }
   ],
   "source": [
    "X"
   ]
  },
  {
   "cell_type": "code",
   "execution_count": 24,
   "id": "91c06411",
   "metadata": {},
   "outputs": [
    {
     "data": {
      "text/plain": [
       "(20, 10)"
      ]
     },
     "execution_count": 24,
     "metadata": {},
     "output_type": "execute_result"
    }
   ],
   "source": [
    "X.shape"
   ]
  },
  {
   "cell_type": "code",
   "execution_count": 25,
   "id": "c8baf847",
   "metadata": {},
   "outputs": [],
   "source": [
    "X = np.transpose(X)"
   ]
  },
  {
   "cell_type": "code",
   "execution_count": 26,
   "id": "7ea759a9",
   "metadata": {},
   "outputs": [
    {
     "data": {
      "text/plain": [
       "(10, 20)"
      ]
     },
     "execution_count": 26,
     "metadata": {},
     "output_type": "execute_result"
    }
   ],
   "source": [
    "X.shape"
   ]
  },
  {
   "cell_type": "code",
   "execution_count": 27,
   "id": "d154b54a",
   "metadata": {},
   "outputs": [
    {
     "data": {
      "text/plain": [
       "array([[0.14788387, 0.        , 0.16347154, 0.        , 0.        ,\n",
       "        0.        , 0.        , 0.        , 0.        , 0.        ,\n",
       "        0.29862658, 0.29862658, 0.        , 0.        , 0.        ,\n",
       "        0.        , 0.        , 0.        , 0.        , 0.39964921],\n",
       "       [0.17746064, 0.17746064, 0.19616585, 0.25055259, 0.        ,\n",
       "        0.        , 0.        , 0.        , 0.        , 0.        ,\n",
       "        0.        , 0.        , 0.        , 0.        , 0.        ,\n",
       "        0.        , 0.        , 0.        , 0.        , 0.        ],\n",
       "       [0.09858924, 0.09858924, 0.10898103, 0.        , 0.16292634,\n",
       "        0.        , 0.13919589, 0.        , 0.        , 0.        ,\n",
       "        0.19908439, 0.        , 0.19908439, 0.        , 0.        ,\n",
       "        0.        , 0.        , 0.        , 0.        , 0.        ],\n",
       "       [0.        , 0.08873032, 0.        , 0.1252763 , 0.        ,\n",
       "        0.        , 0.1252763 , 0.14663371, 0.        , 0.        ,\n",
       "        0.        , 0.        , 0.        , 0.17917595, 0.        ,\n",
       "        0.        , 0.        , 0.        , 0.        , 0.        ],\n",
       "       [0.        , 0.        , 0.        , 0.08351753, 0.0977558 ,\n",
       "        0.        , 0.        , 0.        , 0.0977558 , 0.        ,\n",
       "        0.        , 0.        , 0.        , 0.        , 0.        ,\n",
       "        0.        , 0.        , 0.        , 0.        , 0.        ],\n",
       "       [0.        , 0.08066393, 0.        , 0.        , 0.        ,\n",
       "        0.11388754, 0.11388754, 0.        , 0.        , 0.        ,\n",
       "        0.        , 0.        , 0.16288722, 0.        , 0.16288722,\n",
       "        0.16288722, 0.        , 0.        , 0.        , 0.        ],\n",
       "       [0.0385784 , 0.        , 0.04264475, 0.        , 0.        ,\n",
       "        0.        , 0.        , 0.        , 0.        , 0.06375379,\n",
       "        0.        , 0.        , 0.        , 0.        , 0.07790259,\n",
       "        0.07790259, 0.10425632, 0.10425632, 0.07790259, 0.        ],\n",
       "       [0.06825409, 0.06825409, 0.0754484 , 0.        , 0.        ,\n",
       "        0.09636638, 0.        , 0.        , 0.11279516, 0.11279516,\n",
       "        0.        , 0.        , 0.        , 0.        , 0.        ,\n",
       "        0.        , 0.        , 0.        , 0.        , 0.        ],\n",
       "       [0.03697097, 0.03697097, 0.04086789, 0.05219846, 0.06109738,\n",
       "        0.05219846, 0.05219846, 0.06109738, 0.        , 0.06109738,\n",
       "        0.        , 0.07465664, 0.        , 0.07465664, 0.        ,\n",
       "        0.        , 0.        , 0.        , 0.07465664, 0.        ],\n",
       "       [0.06825409, 0.06825409, 0.        , 0.        , 0.        ,\n",
       "        0.09636638, 0.        , 0.11279516, 0.11279516, 0.        ,\n",
       "        0.        , 0.        , 0.        , 0.        , 0.        ,\n",
       "        0.        , 0.        , 0.        , 0.        , 0.        ]])"
      ]
     },
     "execution_count": 27,
     "metadata": {},
     "output_type": "execute_result"
    }
   ],
   "source": [
    "X"
   ]
  },
  {
   "cell_type": "code",
   "execution_count": null,
   "id": "76a75917",
   "metadata": {},
   "outputs": [],
   "source": []
  },
  {
   "cell_type": "code",
   "execution_count": null,
   "id": "4f527fed",
   "metadata": {},
   "outputs": [],
   "source": []
  },
  {
   "cell_type": "code",
   "execution_count": null,
   "id": "6adc7384",
   "metadata": {},
   "outputs": [],
   "source": []
  }
 ],
 "metadata": {
  "kernelspec": {
   "display_name": "Python 3 (ipykernel)",
   "language": "python",
   "name": "python3"
  },
  "language_info": {
   "codemirror_mode": {
    "name": "ipython",
    "version": 3
   },
   "file_extension": ".py",
   "mimetype": "text/x-python",
   "name": "python",
   "nbconvert_exporter": "python",
   "pygments_lexer": "ipython3",
   "version": "3.9.12"
  }
 },
 "nbformat": 4,
 "nbformat_minor": 5
}
