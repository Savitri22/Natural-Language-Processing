{
 "cells": [
  {
   "cell_type": "code",
   "execution_count": 1,
   "id": "a2b7f963",
   "metadata": {},
   "outputs": [],
   "source": [
    "# pip install tweepy"
   ]
  },
  {
   "cell_type": "code",
   "execution_count": 2,
   "id": "18209bc1",
   "metadata": {},
   "outputs": [],
   "source": [
    "import tweepy\n",
    "import re\n",
    "import pickle"
   ]
  },
  {
   "cell_type": "code",
   "execution_count": 3,
   "id": "e1f6e95e",
   "metadata": {},
   "outputs": [],
   "source": [
    "from tweepy import OAuthHandler"
   ]
  },
  {
   "cell_type": "code",
   "execution_count": 4,
   "id": "25c8e830",
   "metadata": {},
   "outputs": [],
   "source": [
    "consumer_key = 'YwsGdWDbAV5zkipKYqiCL5rBj'\n",
    "consumer_secret = '64copzBPY63dCiHhTvLU6bGWlyul1aDPent4Rlw97ZkKwEc88B'\n",
    "access_token = '37164817-e4ZcHcrpwKilOl2q0sEQaGJ5hEs48B0vDuFjiXrye'\n",
    "access_secret = '7ms4aved9fcXOJyGgXhzI7BaEyGbdlB4vdcEj0ndDpolz'"
   ]
  },
  {
   "cell_type": "code",
   "execution_count": 5,
   "id": "83420b47",
   "metadata": {},
   "outputs": [],
   "source": [
    "auth = OAuthHandler(consumer_key,consumer_secret)\n",
    "auth.set_access_token(access_token,access_secret)"
   ]
  },
  {
   "cell_type": "code",
   "execution_count": 6,
   "id": "81abae2f",
   "metadata": {},
   "outputs": [],
   "source": [
    "args = ['Modi']"
   ]
  },
  {
   "cell_type": "code",
   "execution_count": 7,
   "id": "3df5dce2",
   "metadata": {},
   "outputs": [],
   "source": [
    "api = tweepy.API(auth,timeout=10)"
   ]
  },
  {
   "cell_type": "code",
   "execution_count": 8,
   "id": "d42bc02a",
   "metadata": {},
   "outputs": [],
   "source": [
    "list_tweets = []\n",
    "query = args[0]"
   ]
  },
  {
   "cell_type": "code",
   "execution_count": 9,
   "id": "ed622637",
   "metadata": {},
   "outputs": [
    {
     "data": {
      "text/plain": [
       "'Modi'"
      ]
     },
     "execution_count": 9,
     "metadata": {},
     "output_type": "execute_result"
    }
   ],
   "source": [
    "query"
   ]
  },
  {
   "cell_type": "code",
   "execution_count": 10,
   "id": "dc20a3d8",
   "metadata": {},
   "outputs": [],
   "source": [
    "if len(args) == 1:\n",
    "    for status in tweepy.Cursor(api.search_tweets,q=query+\" -filter:retweets\",lang='en',result_type='recent').items(100):\n",
    "        list_tweets.append(status.text)"
   ]
  },
  {
   "cell_type": "code",
   "execution_count": 11,
   "id": "4943aae6",
   "metadata": {},
   "outputs": [
    {
     "data": {
      "text/plain": [
       "Status(_api=<tweepy.api.API object at 0x0000019AB0323910>, _json={'created_at': 'Fri Aug 19 14:24:46 +0000 2022', 'id': 1560633879102652416, 'id_str': '1560633879102652416', 'text': 'Joshi should pressure Bommai to clear Power companies dues to get out of Power crisis. Bommai efficiently collected… https://t.co/56EXub1AZZ', 'truncated': True, 'entities': {'hashtags': [], 'symbols': [], 'user_mentions': [], 'urls': [{'url': 'https://t.co/56EXub1AZZ', 'expanded_url': 'https://twitter.com/i/web/status/1560633879102652416', 'display_url': 'twitter.com/i/web/status/1…', 'indices': [117, 140]}]}, 'metadata': {'iso_language_code': 'en', 'result_type': 'recent'}, 'source': '<a href=\"https://mobile.twitter.com\" rel=\"nofollow\">Twitter Web App</a>', 'in_reply_to_status_id': None, 'in_reply_to_status_id_str': None, 'in_reply_to_user_id': None, 'in_reply_to_user_id_str': None, 'in_reply_to_screen_name': None, 'user': {'id': 2582465372, 'id_str': '2582465372', 'name': 'k.chari', 'screen_name': 'kchari2', 'location': 'Newdelhi', 'description': '33yrs political admin experience. Patriotic Legal. Worshiper of Kids in World. Political/Legal Brain.  Experience from IAS/Legal Patriotic Elders. No fear', 'url': None, 'entities': {'description': {'urls': []}}, 'protected': False, 'followers_count': 239, 'friends_count': 20, 'listed_count': 3, 'created_at': 'Sun Jun 22 16:05:34 +0000 2014', 'favourites_count': 5, 'utc_offset': None, 'time_zone': None, 'geo_enabled': False, 'verified': False, 'statuses_count': 54842, 'lang': None, 'contributors_enabled': False, 'is_translator': False, 'is_translation_enabled': False, 'profile_background_color': 'C0DEED', 'profile_background_image_url': 'http://abs.twimg.com/images/themes/theme1/bg.png', 'profile_background_image_url_https': 'https://abs.twimg.com/images/themes/theme1/bg.png', 'profile_background_tile': False, 'profile_image_url': 'http://pbs.twimg.com/profile_images/846386875304591360/HVSfCc9__normal.jpg', 'profile_image_url_https': 'https://pbs.twimg.com/profile_images/846386875304591360/HVSfCc9__normal.jpg', 'profile_banner_url': 'https://pbs.twimg.com/profile_banners/2582465372/1490629299', 'profile_link_color': '1DA1F2', 'profile_sidebar_border_color': 'C0DEED', 'profile_sidebar_fill_color': 'DDEEF6', 'profile_text_color': '333333', 'profile_use_background_image': True, 'has_extended_profile': True, 'default_profile': True, 'default_profile_image': False, 'following': False, 'follow_request_sent': False, 'notifications': False, 'translator_type': 'none', 'withheld_in_countries': []}, 'geo': None, 'coordinates': None, 'place': None, 'contributors': None, 'is_quote_status': True, 'quoted_status_id': 1560630366427172864, 'quoted_status_id_str': '1560630366427172864', 'quoted_status': {'created_at': 'Fri Aug 19 14:10:49 +0000 2022', 'id': 1560630366427172864, 'id_str': '1560630366427172864', 'text': \"#Hubli,#Karnataka| They're trying to make issue from non-issue. If at all, you have a difference of opinion, you ca… https://t.co/OxAozZfGCc\", 'truncated': True, 'entities': {'hashtags': [{'text': 'Hubli', 'indices': [0, 6]}, {'text': 'Karnataka', 'indices': [7, 17]}], 'symbols': [], 'user_mentions': [], 'urls': [{'url': 'https://t.co/OxAozZfGCc', 'expanded_url': 'https://twitter.com/i/web/status/1560630366427172864', 'display_url': 'twitter.com/i/web/status/1…', 'indices': [117, 140]}]}, 'metadata': {'iso_language_code': 'en', 'result_type': 'recent'}, 'source': '<a href=\"https://mobile.twitter.com\" rel=\"nofollow\">Twitter Web App</a>', 'in_reply_to_status_id': None, 'in_reply_to_status_id_str': None, 'in_reply_to_user_id': None, 'in_reply_to_user_id_str': None, 'in_reply_to_screen_name': None, 'user': {'id': 134758540, 'id_str': '134758540', 'name': 'The Times Of India', 'screen_name': 'timesofindia', 'location': 'New Delhi', 'description': 'News. Views. Analysis. Conversations. India’s No.1 digital news destination, world’s largest-selling English newspaper - A Times Internet Limited Product', 'url': 'https://t.co/0b6wnY5Vqp', 'entities': {'url': {'urls': [{'url': 'https://t.co/0b6wnY5Vqp', 'expanded_url': 'http://www.timesofindia.com', 'display_url': 'timesofindia.com', 'indices': [0, 23]}]}, 'description': {'urls': []}}, 'protected': False, 'followers_count': 14507562, 'friends_count': 459, 'listed_count': 12831, 'created_at': 'Mon Apr 19 10:50:15 +0000 2010', 'favourites_count': 5, 'utc_offset': None, 'time_zone': None, 'geo_enabled': False, 'verified': True, 'statuses_count': 799052, 'lang': None, 'contributors_enabled': False, 'is_translator': False, 'is_translation_enabled': False, 'profile_background_color': 'C0DEED', 'profile_background_image_url': 'http://abs.twimg.com/images/themes/theme1/bg.png', 'profile_background_image_url_https': 'https://abs.twimg.com/images/themes/theme1/bg.png', 'profile_background_tile': False, 'profile_image_url': 'http://pbs.twimg.com/profile_images/1559870809619189760/rYxcKbRW_normal.jpg', 'profile_image_url_https': 'https://pbs.twimg.com/profile_images/1559870809619189760/rYxcKbRW_normal.jpg', 'profile_banner_url': 'https://pbs.twimg.com/profile_banners/134758540/1660490193', 'profile_link_color': '0084B4', 'profile_sidebar_border_color': 'C0DEED', 'profile_sidebar_fill_color': 'DDEEF6', 'profile_text_color': '333333', 'profile_use_background_image': True, 'has_extended_profile': False, 'default_profile': False, 'default_profile_image': False, 'following': True, 'follow_request_sent': False, 'notifications': False, 'translator_type': 'regular', 'withheld_in_countries': []}, 'geo': None, 'coordinates': None, 'place': None, 'contributors': None, 'is_quote_status': False, 'retweet_count': 2, 'favorite_count': 20, 'favorited': False, 'retweeted': False, 'lang': 'en'}, 'retweet_count': 0, 'favorite_count': 0, 'favorited': False, 'retweeted': False, 'possibly_sensitive': False, 'lang': 'en'}, created_at=datetime.datetime(2022, 8, 19, 14, 24, 46, tzinfo=datetime.timezone.utc), id=1560633879102652416, id_str='1560633879102652416', text='Joshi should pressure Bommai to clear Power companies dues to get out of Power crisis. Bommai efficiently collected… https://t.co/56EXub1AZZ', truncated=True, entities={'hashtags': [], 'symbols': [], 'user_mentions': [], 'urls': [{'url': 'https://t.co/56EXub1AZZ', 'expanded_url': 'https://twitter.com/i/web/status/1560633879102652416', 'display_url': 'twitter.com/i/web/status/1…', 'indices': [117, 140]}]}, metadata={'iso_language_code': 'en', 'result_type': 'recent'}, source='Twitter Web App', source_url='https://mobile.twitter.com', in_reply_to_status_id=None, in_reply_to_status_id_str=None, in_reply_to_user_id=None, in_reply_to_user_id_str=None, in_reply_to_screen_name=None, author=User(_api=<tweepy.api.API object at 0x0000019AB0323910>, _json={'id': 2582465372, 'id_str': '2582465372', 'name': 'k.chari', 'screen_name': 'kchari2', 'location': 'Newdelhi', 'description': '33yrs political admin experience. Patriotic Legal. Worshiper of Kids in World. Political/Legal Brain.  Experience from IAS/Legal Patriotic Elders. No fear', 'url': None, 'entities': {'description': {'urls': []}}, 'protected': False, 'followers_count': 239, 'friends_count': 20, 'listed_count': 3, 'created_at': 'Sun Jun 22 16:05:34 +0000 2014', 'favourites_count': 5, 'utc_offset': None, 'time_zone': None, 'geo_enabled': False, 'verified': False, 'statuses_count': 54842, 'lang': None, 'contributors_enabled': False, 'is_translator': False, 'is_translation_enabled': False, 'profile_background_color': 'C0DEED', 'profile_background_image_url': 'http://abs.twimg.com/images/themes/theme1/bg.png', 'profile_background_image_url_https': 'https://abs.twimg.com/images/themes/theme1/bg.png', 'profile_background_tile': False, 'profile_image_url': 'http://pbs.twimg.com/profile_images/846386875304591360/HVSfCc9__normal.jpg', 'profile_image_url_https': 'https://pbs.twimg.com/profile_images/846386875304591360/HVSfCc9__normal.jpg', 'profile_banner_url': 'https://pbs.twimg.com/profile_banners/2582465372/1490629299', 'profile_link_color': '1DA1F2', 'profile_sidebar_border_color': 'C0DEED', 'profile_sidebar_fill_color': 'DDEEF6', 'profile_text_color': '333333', 'profile_use_background_image': True, 'has_extended_profile': True, 'default_profile': True, 'default_profile_image': False, 'following': False, 'follow_request_sent': False, 'notifications': False, 'translator_type': 'none', 'withheld_in_countries': []}, id=2582465372, id_str='2582465372', name='k.chari', screen_name='kchari2', location='Newdelhi', description='33yrs political admin experience. Patriotic Legal. Worshiper of Kids in World. Political/Legal Brain.  Experience from IAS/Legal Patriotic Elders. No fear', url=None, entities={'description': {'urls': []}}, protected=False, followers_count=239, friends_count=20, listed_count=3, created_at=datetime.datetime(2014, 6, 22, 16, 5, 34, tzinfo=datetime.timezone.utc), favourites_count=5, utc_offset=None, time_zone=None, geo_enabled=False, verified=False, statuses_count=54842, lang=None, contributors_enabled=False, is_translator=False, is_translation_enabled=False, profile_background_color='C0DEED', profile_background_image_url='http://abs.twimg.com/images/themes/theme1/bg.png', profile_background_image_url_https='https://abs.twimg.com/images/themes/theme1/bg.png', profile_background_tile=False, profile_image_url='http://pbs.twimg.com/profile_images/846386875304591360/HVSfCc9__normal.jpg', profile_image_url_https='https://pbs.twimg.com/profile_images/846386875304591360/HVSfCc9__normal.jpg', profile_banner_url='https://pbs.twimg.com/profile_banners/2582465372/1490629299', profile_link_color='1DA1F2', profile_sidebar_border_color='C0DEED', profile_sidebar_fill_color='DDEEF6', profile_text_color='333333', profile_use_background_image=True, has_extended_profile=True, default_profile=True, default_profile_image=False, following=False, follow_request_sent=False, notifications=False, translator_type='none', withheld_in_countries=[]), user=User(_api=<tweepy.api.API object at 0x0000019AB0323910>, _json={'id': 2582465372, 'id_str': '2582465372', 'name': 'k.chari', 'screen_name': 'kchari2', 'location': 'Newdelhi', 'description': '33yrs political admin experience. Patriotic Legal. Worshiper of Kids in World. Political/Legal Brain.  Experience from IAS/Legal Patriotic Elders. No fear', 'url': None, 'entities': {'description': {'urls': []}}, 'protected': False, 'followers_count': 239, 'friends_count': 20, 'listed_count': 3, 'created_at': 'Sun Jun 22 16:05:34 +0000 2014', 'favourites_count': 5, 'utc_offset': None, 'time_zone': None, 'geo_enabled': False, 'verified': False, 'statuses_count': 54842, 'lang': None, 'contributors_enabled': False, 'is_translator': False, 'is_translation_enabled': False, 'profile_background_color': 'C0DEED', 'profile_background_image_url': 'http://abs.twimg.com/images/themes/theme1/bg.png', 'profile_background_image_url_https': 'https://abs.twimg.com/images/themes/theme1/bg.png', 'profile_background_tile': False, 'profile_image_url': 'http://pbs.twimg.com/profile_images/846386875304591360/HVSfCc9__normal.jpg', 'profile_image_url_https': 'https://pbs.twimg.com/profile_images/846386875304591360/HVSfCc9__normal.jpg', 'profile_banner_url': 'https://pbs.twimg.com/profile_banners/2582465372/1490629299', 'profile_link_color': '1DA1F2', 'profile_sidebar_border_color': 'C0DEED', 'profile_sidebar_fill_color': 'DDEEF6', 'profile_text_color': '333333', 'profile_use_background_image': True, 'has_extended_profile': True, 'default_profile': True, 'default_profile_image': False, 'following': False, 'follow_request_sent': False, 'notifications': False, 'translator_type': 'none', 'withheld_in_countries': []}, id=2582465372, id_str='2582465372', name='k.chari', screen_name='kchari2', location='Newdelhi', description='33yrs political admin experience. Patriotic Legal. Worshiper of Kids in World. Political/Legal Brain.  Experience from IAS/Legal Patriotic Elders. No fear', url=None, entities={'description': {'urls': []}}, protected=False, followers_count=239, friends_count=20, listed_count=3, created_at=datetime.datetime(2014, 6, 22, 16, 5, 34, tzinfo=datetime.timezone.utc), favourites_count=5, utc_offset=None, time_zone=None, geo_enabled=False, verified=False, statuses_count=54842, lang=None, contributors_enabled=False, is_translator=False, is_translation_enabled=False, profile_background_color='C0DEED', profile_background_image_url='http://abs.twimg.com/images/themes/theme1/bg.png', profile_background_image_url_https='https://abs.twimg.com/images/themes/theme1/bg.png', profile_background_tile=False, profile_image_url='http://pbs.twimg.com/profile_images/846386875304591360/HVSfCc9__normal.jpg', profile_image_url_https='https://pbs.twimg.com/profile_images/846386875304591360/HVSfCc9__normal.jpg', profile_banner_url='https://pbs.twimg.com/profile_banners/2582465372/1490629299', profile_link_color='1DA1F2', profile_sidebar_border_color='C0DEED', profile_sidebar_fill_color='DDEEF6', profile_text_color='333333', profile_use_background_image=True, has_extended_profile=True, default_profile=True, default_profile_image=False, following=False, follow_request_sent=False, notifications=False, translator_type='none', withheld_in_countries=[]), geo=None, coordinates=None, place=None, contributors=None, is_quote_status=True, quoted_status_id=1560630366427172864, quoted_status_id_str='1560630366427172864', quoted_status=Status(_api=<tweepy.api.API object at 0x0000019AB0323910>, _json={'created_at': 'Fri Aug 19 14:10:49 +0000 2022', 'id': 1560630366427172864, 'id_str': '1560630366427172864', 'text': \"#Hubli,#Karnataka| They're trying to make issue from non-issue. If at all, you have a difference of opinion, you ca… https://t.co/OxAozZfGCc\", 'truncated': True, 'entities': {'hashtags': [{'text': 'Hubli', 'indices': [0, 6]}, {'text': 'Karnataka', 'indices': [7, 17]}], 'symbols': [], 'user_mentions': [], 'urls': [{'url': 'https://t.co/OxAozZfGCc', 'expanded_url': 'https://twitter.com/i/web/status/1560630366427172864', 'display_url': 'twitter.com/i/web/status/1…', 'indices': [117, 140]}]}, 'metadata': {'iso_language_code': 'en', 'result_type': 'recent'}, 'source': '<a href=\"https://mobile.twitter.com\" rel=\"nofollow\">Twitter Web App</a>', 'in_reply_to_status_id': None, 'in_reply_to_status_id_str': None, 'in_reply_to_user_id': None, 'in_reply_to_user_id_str': None, 'in_reply_to_screen_name': None, 'user': {'id': 134758540, 'id_str': '134758540', 'name': 'The Times Of India', 'screen_name': 'timesofindia', 'location': 'New Delhi', 'description': 'News. Views. Analysis. Conversations. India’s No.1 digital news destination, world’s largest-selling English newspaper - A Times Internet Limited Product', 'url': 'https://t.co/0b6wnY5Vqp', 'entities': {'url': {'urls': [{'url': 'https://t.co/0b6wnY5Vqp', 'expanded_url': 'http://www.timesofindia.com', 'display_url': 'timesofindia.com', 'indices': [0, 23]}]}, 'description': {'urls': []}}, 'protected': False, 'followers_count': 14507562, 'friends_count': 459, 'listed_count': 12831, 'created_at': 'Mon Apr 19 10:50:15 +0000 2010', 'favourites_count': 5, 'utc_offset': None, 'time_zone': None, 'geo_enabled': False, 'verified': True, 'statuses_count': 799052, 'lang': None, 'contributors_enabled': False, 'is_translator': False, 'is_translation_enabled': False, 'profile_background_color': 'C0DEED', 'profile_background_image_url': 'http://abs.twimg.com/images/themes/theme1/bg.png', 'profile_background_image_url_https': 'https://abs.twimg.com/images/themes/theme1/bg.png', 'profile_background_tile': False, 'profile_image_url': 'http://pbs.twimg.com/profile_images/1559870809619189760/rYxcKbRW_normal.jpg', 'profile_image_url_https': 'https://pbs.twimg.com/profile_images/1559870809619189760/rYxcKbRW_normal.jpg', 'profile_banner_url': 'https://pbs.twimg.com/profile_banners/134758540/1660490193', 'profile_link_color': '0084B4', 'profile_sidebar_border_color': 'C0DEED', 'profile_sidebar_fill_color': 'DDEEF6', 'profile_text_color': '333333', 'profile_use_background_image': True, 'has_extended_profile': False, 'default_profile': False, 'default_profile_image': False, 'following': True, 'follow_request_sent': False, 'notifications': False, 'translator_type': 'regular', 'withheld_in_countries': []}, 'geo': None, 'coordinates': None, 'place': None, 'contributors': None, 'is_quote_status': False, 'retweet_count': 2, 'favorite_count': 20, 'favorited': False, 'retweeted': False, 'lang': 'en'}, created_at=datetime.datetime(2022, 8, 19, 14, 10, 49, tzinfo=datetime.timezone.utc), id=1560630366427172864, id_str='1560630366427172864', text=\"#Hubli,#Karnataka| They're trying to make issue from non-issue. If at all, you have a difference of opinion, you ca… https://t.co/OxAozZfGCc\", truncated=True, entities={'hashtags': [{'text': 'Hubli', 'indices': [0, 6]}, {'text': 'Karnataka', 'indices': [7, 17]}], 'symbols': [], 'user_mentions': [], 'urls': [{'url': 'https://t.co/OxAozZfGCc', 'expanded_url': 'https://twitter.com/i/web/status/1560630366427172864', 'display_url': 'twitter.com/i/web/status/1…', 'indices': [117, 140]}]}, metadata={'iso_language_code': 'en', 'result_type': 'recent'}, source='Twitter Web App', source_url='https://mobile.twitter.com', in_reply_to_status_id=None, in_reply_to_status_id_str=None, in_reply_to_user_id=None, in_reply_to_user_id_str=None, in_reply_to_screen_name=None, author=User(_api=<tweepy.api.API object at 0x0000019AB0323910>, _json={'id': 134758540, 'id_str': '134758540', 'name': 'The Times Of India', 'screen_name': 'timesofindia', 'location': 'New Delhi', 'description': 'News. Views. Analysis. Conversations. India’s No.1 digital news destination, world’s largest-selling English newspaper - A Times Internet Limited Product', 'url': 'https://t.co/0b6wnY5Vqp', 'entities': {'url': {'urls': [{'url': 'https://t.co/0b6wnY5Vqp', 'expanded_url': 'http://www.timesofindia.com', 'display_url': 'timesofindia.com', 'indices': [0, 23]}]}, 'description': {'urls': []}}, 'protected': False, 'followers_count': 14507562, 'friends_count': 459, 'listed_count': 12831, 'created_at': 'Mon Apr 19 10:50:15 +0000 2010', 'favourites_count': 5, 'utc_offset': None, 'time_zone': None, 'geo_enabled': False, 'verified': True, 'statuses_count': 799052, 'lang': None, 'contributors_enabled': False, 'is_translator': False, 'is_translation_enabled': False, 'profile_background_color': 'C0DEED', 'profile_background_image_url': 'http://abs.twimg.com/images/themes/theme1/bg.png', 'profile_background_image_url_https': 'https://abs.twimg.com/images/themes/theme1/bg.png', 'profile_background_tile': False, 'profile_image_url': 'http://pbs.twimg.com/profile_images/1559870809619189760/rYxcKbRW_normal.jpg', 'profile_image_url_https': 'https://pbs.twimg.com/profile_images/1559870809619189760/rYxcKbRW_normal.jpg', 'profile_banner_url': 'https://pbs.twimg.com/profile_banners/134758540/1660490193', 'profile_link_color': '0084B4', 'profile_sidebar_border_color': 'C0DEED', 'profile_sidebar_fill_color': 'DDEEF6', 'profile_text_color': '333333', 'profile_use_background_image': True, 'has_extended_profile': False, 'default_profile': False, 'default_profile_image': False, 'following': True, 'follow_request_sent': False, 'notifications': False, 'translator_type': 'regular', 'withheld_in_countries': []}, id=134758540, id_str='134758540', name='The Times Of India', screen_name='timesofindia', location='New Delhi', description='News. Views. Analysis. Conversations. India’s No.1 digital news destination, world’s largest-selling English newspaper - A Times Internet Limited Product', url='https://t.co/0b6wnY5Vqp', entities={'url': {'urls': [{'url': 'https://t.co/0b6wnY5Vqp', 'expanded_url': 'http://www.timesofindia.com', 'display_url': 'timesofindia.com', 'indices': [0, 23]}]}, 'description': {'urls': []}}, protected=False, followers_count=14507562, friends_count=459, listed_count=12831, created_at=datetime.datetime(2010, 4, 19, 10, 50, 15, tzinfo=datetime.timezone.utc), favourites_count=5, utc_offset=None, time_zone=None, geo_enabled=False, verified=True, statuses_count=799052, lang=None, contributors_enabled=False, is_translator=False, is_translation_enabled=False, profile_background_color='C0DEED', profile_background_image_url='http://abs.twimg.com/images/themes/theme1/bg.png', profile_background_image_url_https='https://abs.twimg.com/images/themes/theme1/bg.png', profile_background_tile=False, profile_image_url='http://pbs.twimg.com/profile_images/1559870809619189760/rYxcKbRW_normal.jpg', profile_image_url_https='https://pbs.twimg.com/profile_images/1559870809619189760/rYxcKbRW_normal.jpg', profile_banner_url='https://pbs.twimg.com/profile_banners/134758540/1660490193', profile_link_color='0084B4', profile_sidebar_border_color='C0DEED', profile_sidebar_fill_color='DDEEF6', profile_text_color='333333', profile_use_background_image=True, has_extended_profile=False, default_profile=False, default_profile_image=False, following=True, follow_request_sent=False, notifications=False, translator_type='regular', withheld_in_countries=[]), user=User(_api=<tweepy.api.API object at 0x0000019AB0323910>, _json={'id': 134758540, 'id_str': '134758540', 'name': 'The Times Of India', 'screen_name': 'timesofindia', 'location': 'New Delhi', 'description': 'News. Views. Analysis. Conversations. India’s No.1 digital news destination, world’s largest-selling English newspaper - A Times Internet Limited Product', 'url': 'https://t.co/0b6wnY5Vqp', 'entities': {'url': {'urls': [{'url': 'https://t.co/0b6wnY5Vqp', 'expanded_url': 'http://www.timesofindia.com', 'display_url': 'timesofindia.com', 'indices': [0, 23]}]}, 'description': {'urls': []}}, 'protected': False, 'followers_count': 14507562, 'friends_count': 459, 'listed_count': 12831, 'created_at': 'Mon Apr 19 10:50:15 +0000 2010', 'favourites_count': 5, 'utc_offset': None, 'time_zone': None, 'geo_enabled': False, 'verified': True, 'statuses_count': 799052, 'lang': None, 'contributors_enabled': False, 'is_translator': False, 'is_translation_enabled': False, 'profile_background_color': 'C0DEED', 'profile_background_image_url': 'http://abs.twimg.com/images/themes/theme1/bg.png', 'profile_background_image_url_https': 'https://abs.twimg.com/images/themes/theme1/bg.png', 'profile_background_tile': False, 'profile_image_url': 'http://pbs.twimg.com/profile_images/1559870809619189760/rYxcKbRW_normal.jpg', 'profile_image_url_https': 'https://pbs.twimg.com/profile_images/1559870809619189760/rYxcKbRW_normal.jpg', 'profile_banner_url': 'https://pbs.twimg.com/profile_banners/134758540/1660490193', 'profile_link_color': '0084B4', 'profile_sidebar_border_color': 'C0DEED', 'profile_sidebar_fill_color': 'DDEEF6', 'profile_text_color': '333333', 'profile_use_background_image': True, 'has_extended_profile': False, 'default_profile': False, 'default_profile_image': False, 'following': True, 'follow_request_sent': False, 'notifications': False, 'translator_type': 'regular', 'withheld_in_countries': []}, id=134758540, id_str='134758540', name='The Times Of India', screen_name='timesofindia', location='New Delhi', description='News. Views. Analysis. Conversations. India’s No.1 digital news destination, world’s largest-selling English newspaper - A Times Internet Limited Product', url='https://t.co/0b6wnY5Vqp', entities={'url': {'urls': [{'url': 'https://t.co/0b6wnY5Vqp', 'expanded_url': 'http://www.timesofindia.com', 'display_url': 'timesofindia.com', 'indices': [0, 23]}]}, 'description': {'urls': []}}, protected=False, followers_count=14507562, friends_count=459, listed_count=12831, created_at=datetime.datetime(2010, 4, 19, 10, 50, 15, tzinfo=datetime.timezone.utc), favourites_count=5, utc_offset=None, time_zone=None, geo_enabled=False, verified=True, statuses_count=799052, lang=None, contributors_enabled=False, is_translator=False, is_translation_enabled=False, profile_background_color='C0DEED', profile_background_image_url='http://abs.twimg.com/images/themes/theme1/bg.png', profile_background_image_url_https='https://abs.twimg.com/images/themes/theme1/bg.png', profile_background_tile=False, profile_image_url='http://pbs.twimg.com/profile_images/1559870809619189760/rYxcKbRW_normal.jpg', profile_image_url_https='https://pbs.twimg.com/profile_images/1559870809619189760/rYxcKbRW_normal.jpg', profile_banner_url='https://pbs.twimg.com/profile_banners/134758540/1660490193', profile_link_color='0084B4', profile_sidebar_border_color='C0DEED', profile_sidebar_fill_color='DDEEF6', profile_text_color='333333', profile_use_background_image=True, has_extended_profile=False, default_profile=False, default_profile_image=False, following=True, follow_request_sent=False, notifications=False, translator_type='regular', withheld_in_countries=[]), geo=None, coordinates=None, place=None, contributors=None, is_quote_status=False, retweet_count=2, favorite_count=20, favorited=False, retweeted=False, lang='en'), retweet_count=0, favorite_count=0, favorited=False, retweeted=False, possibly_sensitive=False, lang='en')"
      ]
     },
     "execution_count": 11,
     "metadata": {},
     "output_type": "execute_result"
    }
   ],
   "source": [
    "status"
   ]
  },
  {
   "cell_type": "code",
   "execution_count": 12,
   "id": "ae1c0273",
   "metadata": {},
   "outputs": [
    {
     "data": {
      "text/plain": [
       "[\"# Liquor Scam\\nModi won't interfere with bureaucracy and save opposition.He won't overrule Judicial directive to Pro… https://t.co/Kmp2MvIrrS\",\n",
       " '@SiyaRammm @theahmedyusuf So if you believe Imran Khan then he also said Modi is a fascist and kashmir people are h… https://t.co/c5jbgm8S4y',\n",
       " '@ARanganathan72 @ArvindKejriwal This is not just Rs 499 crore...this is the amount spent to buy media silence. That… https://t.co/CpsM3C62wp',\n",
       " '@keertikrishna_ 😏only for modi',\n",
       " \"@Raj63245195 Modi has been welcomed very beautifully in non-white nations...Here's praise singer Mbangeni singing!\\nhttps://t.co/Efabvfo0cU\",\n",
       " 'When Modi said said \"beti bachao\", It was not a message. It was warning !!!\\n\\n#BilkisBano',\n",
       " \"The long tentacles of hate that emanate from Modi's India, in California. Anyone embracing that religious extremist… https://t.co/76nYkrx4zr\",\n",
       " 'I love you modi ji',\n",
       " 'There can be no better start from Amritkaal PM\\xa0Modi https://t.co/Mgmw2fRbRF',\n",
       " '@narendramodi Bekaar PM of the world = MODI https://t.co/v6ifFgF1m5',\n",
       " '@DrSJaishankar Congratulations @DrSJaishankar sir ! Encouraging and positive trend for promoting goodwill and relat… https://t.co/8eEO91wgBq',\n",
       " 'Neymar and Mbappe PSG penalty row over, Brazil star could leave before September 1 https://t.co/M3Lsqmq1Lc #FACTS… https://t.co/X9sGWkA222',\n",
       " '@MasalaBai Modi doesn’t have guts to give a press conference, just hide behind covers and troll.',\n",
       " 'Imran says his Chief of Staff was sexually abused in police custody https://t.co/uazrs33ApU #FOLLOW… https://t.co/JAj7UVWbMc',\n",
       " \"Now Kejriwal and handsome will take credit for this too... While Modi CBI is raiding handsome's model is applauded… https://t.co/2AhxvmAaUJ\",\n",
       " '@himansshhi @TheQuint Dirty Modi government honors terrorists and deals with them as heroes!\\nWhat is the message th… https://t.co/rc3Y7Cr3p1',\n",
       " 'If #Kejriwal thinks that #Modi has prompted #CBIRaid at various places of #manishsisodiya because popularity of… https://t.co/W4vrmpsdwD',\n",
       " '@AKULASATISH66 @ARanganathan72 @ramapriya1989 @ArvindKejriwal Because NYT is anti Modi he goes for support there. Wicked.',\n",
       " 'It’s clear now:\\n\\nArvind is the LEADER\\nModi is the OPPOSITION https://t.co/t3WXF7AZ8U',\n",
       " 'Har har modi is only about dictatorship 🤣',\n",
       " '#माफी_नहीं_फांसी_दो This is the condition of law and order in Gujarat and under Modi rule that the keeper of a law… https://t.co/ArsC4NMfKc',\n",
       " '@ashoswai Because our opposite parties are friends with modi. They like to do what modi do with indian muslims.',\n",
       " 'https://t.co/kkZCZ3wRzh PM Modi&amp;#39;s speech at the 50th Raising Day of CISF in New Delhi | PMO',\n",
       " '@derekobrienmp @MamataOfficial I am concerned that in overall, the ruling party is successful in tarnishing opposit… https://t.co/kG1ieG2bWT',\n",
       " '@purighalla_rao @Anuragkukreti7 Cong has done NOTHING for 70 yrs. Cong is Evil personified. If Cong has done nothin… https://t.co/3BJv5xYuoS',\n",
       " '@sardesairajdeep @ArvindKejriwal @msisodia He works for Modi and RSS. History proved it. https://t.co/LllelgAEbp',\n",
       " 'Gadhe, Modi going to temple is also for Hindus. Question is not what is but is it solving any law or policy where H… https://t.co/fGWBkeM8ot',\n",
       " 'Salary of @ArvindKejriwal 4lakh per month whereas salary of PM Modi is 1.5 lakh per month https://t.co/3DNgZZyW7A',\n",
       " '# Liquor Scam\\nAllegations of Modi using ED and CBI is foolish.Modi is Seasoned Politician and knows perception is i… https://t.co/znPBSBrVTh',\n",
       " \"@HitenPithadiya 5 LAKH'S CRORE'S TELECOM SPECTRUMS FREE FOR MUKESH AMBANI's RELIANCE INDUSTRIES LIMITED Richest man… https://t.co/Etj8IUBG4R\",\n",
       " '(1/4).   the Opposition is divided and as yet has no obvious frontrunner to challenge Modi nationally. In such a sc… https://t.co/JEsaa6OTFO',\n",
       " 'Urduwood camouflaging its Hindu hate by releasing content linked to Sanatani spirit or allying with local language… https://t.co/okukjHiyE6',\n",
       " '@ARanganathan72 @ArvindKejriwal modi puppet  speaks about kejriwal but never dares to tweet about his father modi g… https://t.co/kUfwnjO127',\n",
       " '@rajbhavan_tn @TNJFU_OFFICIAL @PMOIndia @HMOIndia @EduMinOfIndia #BharatStandsWithModiJi \\n\\n🙏🙏🙏🙏🙏\\n\\nPM Modi: Pradhan… https://t.co/PRaaiR3ARD',\n",
       " '@RealArnab_ Kejriwal is RSS , more dangerous than Bhagwat .\\nArnab , You should know this .\\nWhen Kejriwal met Mr.Sri… https://t.co/45StdFtt4w',\n",
       " \"New York Times praised Delhi's\\neducation revolution.\\nInstead of learning from India's best\\neducation minister, toda… https://t.co/e61meWQX4k\",\n",
       " '@brink_ster @that1avinash @PTI_News Again this is the claim of govt. Every govt claims that. Modi claimed to make 1… https://t.co/IuD6PxaG49',\n",
       " '@ChetanV12488587 Wow you thot of all this by yourself half chaddi or did Modi help you in the lies cause he is beco… https://t.co/H4r8e7yHpx',\n",
       " '#StudyVisaInIndia | Afghan Girl Writes To PM Modi About Visa Unavailability, Says Needs Visa to Study in India.… https://t.co/hjjOhVIz5D',\n",
       " '@mansukhmandviya #BharatStandsWithModiJi \\n\\n🙏🙏🙏🙏🙏\\n\\nPM Modi: Pradhan Sevak of New India,  Vasudhaiva Kutumbakam.\\n\\nExc… https://t.co/F9G3w6aSIZ',\n",
       " '@ias_rawat Sir you should come in politics and become a big leader to lead our nation like Modi ji',\n",
       " 'You yourself is admitting that central government is much much better 🤣🤣. Modi hatred has shrunk your brain https://t.co/Y1c60Mic8s',\n",
       " 'ONE OF THE MOST IDIOT PRIME UDIOT MINISTER MODI , CRIMINAL OF INNOCENT PROPLE , TAREEPAAR AMIT SHAH MURDERER OF INN… https://t.co/qnNXurwZER',\n",
       " '@DharmendraTalks After Modi became prime minister we are allowed to sit on the chair. Why don’t you give credit to… https://t.co/20tsgymRtS',\n",
       " '@dcstunner999 @KTRTRS Hon. CM too made some very positive statements about Mr. Modi. What about that?\\nAll of you gu… https://t.co/gWKss5SB06',\n",
       " '@nytimes @latimes @derspiegel @BBC @CNN \\nThis is what Indian PM Modi and his party are about. Releasing and felicit… https://t.co/9fTy0lf63i',\n",
       " '@sardesairajdeep Dirty Modi government honors terrorists and deals with them as heroes!\\nWhat is the message they se… https://t.co/24vhcYQFQf',\n",
       " '@Mahesh10816 @KripuVisuals #BharatStandsWithModiJi \\n\\n🙏🙏🙏🙏🙏\\n\\nPM Modi: Pradhan Sevak of New India,  Vasudhaiva Kutumb… https://t.co/LH63nuNDyW',\n",
       " \"Despite the #BombayHighCourt's directions, #FTII is yet to order an inquiry or reconsider the suspension of profess… https://t.co/mr6D8BzWox\",\n",
       " '@SonOfShivaye Many Kashmiri Pandits normally  hate Modi. Even so called pretending Pro Hindu . Example  is upword founder.',\n",
       " \"@SecularTrainee He just nailed Modi's failure in a very subtle way\",\n",
       " 'If the postal department is given to Modi government Private Limited, then even today the government employee shoul… https://t.co/yWJrBUZFN4',\n",
       " '@3doorsdown18 @kjsreeraj1 @amarprasadreddy @ShefVaidya Modi never promised to give 15 lakh rupees in any of his spe… https://t.co/B0csYzwnxc',\n",
       " '@DoodleForFood And by in person I mean \"when spoken\"',\n",
       " 'If the postal department is given to Modi government Private Limited, then even today the government employee shoul… https://t.co/jWZrfjondp',\n",
       " '@IndiaToday @mahimasingh7 @PreetiChoudhry Dirty Modi government honors terrorists and deals with them as heroes!\\nWh… https://t.co/gXQ4av98WA',\n",
       " '@RajaRajavira @SinghRakeshKu14 @ADiravia @PatnawalaRajesh @hisamuddink51 @JitendraManoha6 @_Mahakal_D_… https://t.co/ynj8rfTpzD',\n",
       " '@BJP4India #GharGharBJP \\n#GharGharBJP \\n\\n#BharatStandsWithModiJi \\n\\n🙏🙏🙏🙏🙏\\n\\nPM Modi: Pradhan Sevak of New India,  Vasu… https://t.co/IxYfN7SkEc',\n",
       " '# Liquor Scam\\nWhy Media whether Pro Modi or Anti Modi forget one fact that Modi has renounce all Pleasure, family l… https://t.co/GjhWgepACk',\n",
       " '@Dr_Maj_UCP A couple of months back coal was at $240 a ton.\\nAnd we import 200 million tons!\\nAnd we have reserves of… https://t.co/esEs7rtvOp',\n",
       " 'If the postal department is given to Modi government Private Limited, then even today the government employee shoul… https://t.co/9mgATED0cT',\n",
       " \"@republic @raghav_chadha Yes Modi is jealous of everyone. Before 2014 everyone were jealous of modi and that's why… https://t.co/glEV66GUkd\",\n",
       " '@team_vikram Dirty Modi government honors terrorists and deals with them as heroes!\\nWhat is the message they send t… https://t.co/pVUb2plD24',\n",
       " 'An article after my heart. Do read\\n\\nOpinion: Why is Modi the only prime minister who is haunted by Nehru’s ghost?… https://t.co/OohZ9ZFG3Y',\n",
       " 'If the postal department is given to Modi government Private Limited, then even today the government employee shoul… https://t.co/PtcUFqJ7LO',\n",
       " \"The Timing Of Manish Sisodia's Raids Says Everything*\\n\\nTo blunt their crusade against corruption, the Modi governme… https://t.co/sERFBch4Sa\",\n",
       " 'Gujarat Election 2022: Ex-Guv compares Modi with Lord Krishna, says PM is fighting against nepotism Gujarat Electio… https://t.co/cIRf4QWLCN',\n",
       " \"Har Ghar Jal Utsav: PM Modi attacks Opposition, says 'those who talk big lack vision' Har Ghar Jal Utsav: Launching… https://t.co/Tc0dNxj6GQ\",\n",
       " '@ShriSamiNathan @BlrNirmal @ANamassivayam #GharGharBJP \\n#GharGharBJP \\n\\n#BharatStandsWithModiJi \\n\\n🙏🙏🙏🙏🙏\\n\\nPM Modi: Pr… https://t.co/pA0049aM9H',\n",
       " \"Yes, Vivek should consider this guy's request to make Gujarat files and show the world how muslim burnt 60 Hindu pi… https://t.co/RzGNCQGb7Z\",\n",
       " '@rbhatara Hello! Your thread by Gabbar0099.\\n\\n\"1- SIT gives clean CHEAT to Narendra Modi on Gujarat...\"\\n\\nEnjoy this… https://t.co/vD2YvvaTdD',\n",
       " 'Thank You, Modiji, We Now Know What Is the Biggest Danger to Our Democracy https://t.co/iqFGh5TEvR via @thewire_in',\n",
       " '@DoodleForFood In person, \"you aren\\'t\" is worse for most English dialects simply because it can be more easily misu… https://t.co/Vb1eMbWWwa',\n",
       " \"@aeJFwk9IvUA23bE @IPF_ORG Think it will backfire. I don't think the Gujarat electorate is going to vote saffron bec… https://t.co/ROE1QSGKKk\",\n",
       " '@Narayanan3 India debt \\n\\nBefore Modi : ₹52 Lac crores.\\nAfter Modi : ₹155 lac crores.\\n\\nTax income for India \\n\\nBefore… https://t.co/CdghNhMQIw',\n",
       " \"@DrBoseBharat @PMOIndia @narendramodi @narendramodi_in @AmitShah @PiyushGoyal Y don't we do our little bit....\\nY al… https://t.co/55OcEofyYy\",\n",
       " '@CNNnews18 @Gupta_ReenaG @Shehzad_Ind @ShivaniGupta_5 Just ask this BJP spokesperson that the intoxication that is… https://t.co/B1fJ4s3XMB',\n",
       " '@thenewsminute Dirty Modi government honors terrorists and deals with them as heroes!\\nWhat is the message they send… https://t.co/H6blAYFAPr',\n",
       " 'Mr modi the same is done by captain amninder singh .Punjab revenue from excise which is now estimated 9500 crorrs w… https://t.co/9mixinPUuP',\n",
       " \"@RShivshankar Didn't it publish Howdy Modi event in the US\",\n",
       " 'Indian Modi government is totally Corrupted and Gangster. Nobody is to poor and common peoples in india. No rules n… https://t.co/h6Y9l5hkyh',\n",
       " 'Modi controlled godi media hardly ever talks about achievements of AAP. Also, Modi never let Manish Sisodia, Satyen… https://t.co/ZTIlT42YoS',\n",
       " 'Of course Modi is the best ever economist this planet has seen. \\n\\nDouble Ph.D ! https://t.co/8GWd6lv4LI',\n",
       " 'New Delhi:— \"I\\'ve requested Modi govt to do whatever is necessary to sustain Sheikh Hasina\\'s govt.\" - Bangladesh\\'s… https://t.co/cfEuH0H7xb',\n",
       " 'Held a meeting with BJP youth wing members, IT social media members and mandal President in Alappuzha,  Kerala. Dis… https://t.co/EaEdBvjKS6',\n",
       " \"When we have so many idiot here in India, who even don't read the news article, then no wonder why #Modi is PM of I… https://t.co/rZV5eRimLW\",\n",
       " 'Manish Sisodia took some Decisions on Liquor Policy of Delhi Government causing Revenue Loss...Now he is raided by… https://t.co/aqz9Al5rKQ',\n",
       " '@Dr_RizwanAhmed For these nations it is blasphemy when it comes to their religion but they can insult other religio… https://t.co/XTW9eekqGf',\n",
       " '@SyedSahilNaqvi3 Dirty Modi government honors terrorists and deals with them as heroes!\\nWhat is the message they se… https://t.co/gOgU91wGvS',\n",
       " \"#SupremeCourt #supreme Women's bible site:#Modi cant develop #India without revamping courts https://t.co/wQzRpBI8VS https://t.co/iJYdzSSekz\",\n",
       " 'Due to Yogi and Hemanta Bishwa Sharma , People are still voting for BJP , \\nOr else Kejriwal would have replaced Modi ,',\n",
       " '@AdityaRajKaul Reality is when hindu terrorist like modi &amp; shah bcmz PM &amp; HM, these paid journalists r barking sinc… https://t.co/To8o8YGcVz',\n",
       " \"@nytimes In your published news (positive news about Arvind Kejriwal's Education modal). Now,\\nIndian Modi governmen… https://t.co/HaI58yxG5Q\",\n",
       " '@iMac_too Kejri is on Ford foundation payrollNYT loves anyone who hates Modi &amp; Kejri fits the bill!No surprises AAP… https://t.co/qdyBTH27G3',\n",
       " '@BJP4India Cost of LGP is 400 rs in 2014 and 1100 in 2022. Looting poor people money by Modi.',\n",
       " '@SaketGokhale #Modi will definitely launch \"Har Ghar #ED \" campaign unless politicians join #BJP &amp; become Doodh ka dhula &amp; rapists gang!',\n",
       " \"Weekend arrived faster than Modi's lie.\",\n",
       " \"@RShivshankar Modi's favourite pet giving lecture on crooked foreign crutches...\",\n",
       " '@Dr_RizwanAhmed … regret for her comments. But after 4 or 5 days controversy erupts as zooo bears handlers have ask… https://t.co/Ar3meUTtDP',\n",
       " 'Joshi should pressure Bommai to clear Power companies dues to get out of Power crisis. Bommai efficiently collected… https://t.co/56EXub1AZZ']"
      ]
     },
     "execution_count": 12,
     "metadata": {},
     "output_type": "execute_result"
    }
   ],
   "source": [
    "list_tweets"
   ]
  },
  {
   "cell_type": "code",
   "execution_count": 13,
   "id": "06e8bb6c",
   "metadata": {},
   "outputs": [
    {
     "data": {
      "text/plain": [
       "100"
      ]
     },
     "execution_count": 13,
     "metadata": {},
     "output_type": "execute_result"
    }
   ],
   "source": [
    "len(list_tweets)"
   ]
  },
  {
   "cell_type": "code",
   "execution_count": 15,
   "id": "9e2fb472",
   "metadata": {},
   "outputs": [],
   "source": [
    "with open('tfidmodel.pickle','rb') as f:\n",
    "    vectorizer = pickle.load(f)"
   ]
  },
  {
   "cell_type": "code",
   "execution_count": 16,
   "id": "89c47685",
   "metadata": {},
   "outputs": [],
   "source": [
    "with open('classifier.pickle','rb') as f:\n",
    "    clf = pickle.load(f)"
   ]
  },
  {
   "cell_type": "code",
   "execution_count": 19,
   "id": "2c935bef",
   "metadata": {},
   "outputs": [
    {
     "name": "stdout",
     "output_type": "stream",
     "text": [
      " liquor scam modi won t interfere with bureaucracy and save opposition.he won t overrule judicial directive to pro  : [0]\n",
      " siyarammm theahmedyusuf so if you believe imran khan then he also said modi is fascist and kashmir people are h  : [1]\n",
      " aranganathan arvindkejriwal this is not just rs crore...this is the amount spent to buy media silence. that  : [1]\n",
      " keertikrishna only for modi : [1]\n",
      " raj modi has been welcomed very beautifully in non white nations...here s praise singer mbangeni singing  : [1]\n",
      "when modi said said beti bachao it was not message. it was warning bilkisbano : [0]\n",
      "the long tentacles of hate that emanate from modi s india in california. anyone embracing that religious extremist  : [0]\n",
      " love you modi ji : [1]\n",
      "there can be no better start from amritkaal pm modi  : [0]\n",
      " narendramodi bekaar pm of the world modi  : [1]\n",
      " drsjaishankar congratulations drsjaishankar sir encouraging and positive trend for promoting goodwill and relat  : [1]\n",
      "neymar and mbappe psg penalty row over brazil star could leave before september facts  : [0]\n",
      " masalabai modi doesn t have guts to give press conference just hide behind covers and troll. : [0]\n",
      "imran says his chief of staff was sexually abused in police custody follow  : [1]\n",
      "now kejriwal and handsome will take credit for this too... while modi cbi is raiding handsome s model is applauded  : [1]\n",
      " himansshhi thequint dirty modi government honors terrorists and deals with them as heroes what is the message th  : [1]\n",
      "if kejriwal thinks that modi has prompted cbiraid at various places of manishsisodiya because popularity of  : [0]\n",
      " akulasatish aranganathan ramapriya arvindkejriwal because nyt is anti modi he goes for support there. wicked. : [1]\n",
      "it s clear now arvind is the leader modi is the opposition  : [1]\n",
      "har har modi is only about dictatorship  : [1]\n",
      " this is the condition of law and order in gujarat and under modi rule that the keeper of law  : [1]\n",
      " ashoswai because our opposite parties are friends with modi. they like to do what modi do with indian muslims. : [1]\n",
      " pm modi amp s speech at the th raising day of cisf in new delhi pmo : [1]\n",
      " derekobrienmp mamataofficial am concerned that in overall the ruling party is successful in tarnishing opposit  : [1]\n",
      " purighalla rao anuragkukreti cong has done nothing for yrs. cong is evil personified. if cong has done nothin  : [0]\n",
      " sardesairajdeep arvindkejriwal msisodia he works for modi and rss. history proved it.  : [1]\n",
      "gadhe modi going to temple is also for hindus. question is not what is but is it solving any law or policy where h  : [1]\n",
      "salary of arvindkejriwal lakh per month whereas salary of pm modi is . lakh per month  : [1]\n",
      " liquor scam allegations of modi using ed and cbi is foolish.modi is seasoned politician and knows perception is i  : [1]\n",
      " hitenpithadiya lakh s crore s telecom spectrums free for mukesh ambani s reliance industries limited richest man  : [1]\n",
      " . the opposition is divided and as yet has no obvious frontrunner to challenge modi nationally. in such sc  : [0]\n",
      "urduwood camouflaging its hindu hate by releasing content linked to sanatani spirit or allying with local language  : [1]\n",
      " aranganathan arvindkejriwal modi puppet speaks about kejriwal but never dares to tweet about his father modi g  : [1]\n",
      " rajbhavan tn tnjfu official pmoindia hmoindia eduminofindia bharatstandswithmodiji pm modi pradhan  : [1]\n",
      " realarnab kejriwal is rss more dangerous than bhagwat . arnab you should know this . when kejriwal met mr.sri  : [0]\n",
      "new york times praised delhi s education revolution. instead of learning from india s best education minister toda  : [1]\n",
      " brink ster that avinash pti news again this is the claim of govt. every govt claims that. modi claimed to make  : [0]\n",
      " chetanv wow you thot of all this by yourself half chaddi or did modi help you in the lies cause he is beco  : [1]\n",
      " studyvisainindia afghan girl writes to pm modi about visa unavailability says needs visa to study in india.  : [0]\n",
      " mansukhmandviya bharatstandswithmodiji pm modi pradhan sevak of new india vasudhaiva kutumbakam. exc  : [1]\n",
      " ias rawat sir you should come in politics and become big leader to lead our nation like modi ji : [0]\n",
      "you yourself is admitting that central government is much much better . modi hatred has shrunk your brain  : [0]\n",
      "one of the most idiot prime udiot minister modi criminal of innocent prople tareepaar amit shah murderer of inn  : [1]\n",
      " dharmendratalks after modi became prime minister we are allowed to sit on the chair. why don t you give credit to  : [0]\n",
      " dcstunner ktrtrs hon. cm too made some very positive statements about mr. modi. what about that all of you gu  : [0]\n",
      " nytimes latimes derspiegel bbc cnn this is what indian pm modi and his party are about. releasing and felicit  : [0]\n",
      " sardesairajdeep dirty modi government honors terrorists and deals with them as heroes what is the message they se  : [1]\n",
      " mahesh kripuvisuals bharatstandswithmodiji pm modi pradhan sevak of new india vasudhaiva kutumb  : [1]\n",
      "despite the bombayhighcourt s directions ftii is yet to order an inquiry or reconsider the suspension of profess  : [1]\n",
      " sonofshivaye many kashmiri pandits normally hate modi. even so called pretending pro hindu . example is upword founder. : [0]\n",
      " seculartrainee he just nailed modi s failure in very subtle way : [1]\n",
      "if the postal department is given to modi government private limited then even today the government employee shoul  : [0]\n",
      " doorsdown kjsreeraj amarprasadreddy shefvaidya modi never promised to give lakh rupees in any of his spe  : [0]\n",
      " doodleforfood and by in person mean when spoken  : [1]\n",
      "if the postal department is given to modi government private limited then even today the government employee shoul  : [0]\n",
      " indiatoday mahimasingh preetichoudhry dirty modi government honors terrorists and deals with them as heroes wh  : [1]\n",
      " rajarajavira singhrakeshku adiravia patnawalarajesh hisamuddink jitendramanoha mahakal d  : [1]\n",
      " bjp india ghargharbjp ghargharbjp bharatstandswithmodiji pm modi pradhan sevak of new india vasu  : [1]\n",
      " liquor scam why media whether pro modi or anti modi forget one fact that modi has renounce all pleasure family l  : [1]\n",
      " dr maj ucp couple of months back coal was at ton. and we import million tons and we have reserves of  : [1]\n",
      "if the postal department is given to modi government private limited then even today the government employee shoul  : [0]\n",
      " republic raghav chadha yes modi is jealous of everyone. before everyone were jealous of modi and that is why  : [0]\n",
      " team vikram dirty modi government honors terrorists and deals with them as heroes what is the message they send t  : [0]\n",
      "an article after my heart. do read opinion why is modi the only prime minister who is haunted by nehru s ghost  : [1]\n",
      "if the postal department is given to modi government private limited then even today the government employee shoul  : [0]\n",
      "the timing of manish sisodia s raids says everything to blunt their crusade against corruption the modi governme  : [1]\n",
      "gujarat election ex guv compares modi with lord krishna says pm is fighting against nepotism gujarat electio  : [0]\n",
      "har ghar jal utsav pm modi attacks opposition says those who talk big lack vision har ghar jal utsav launching  : [0]\n",
      " shrisaminathan blrnirmal anamassivayam ghargharbjp ghargharbjp bharatstandswithmodiji pm modi pr  : [1]\n",
      "yes vivek should consider this guy s request to make gujarat files and show the world how muslim burnt hindu pi  : [1]\n",
      " rbhatara hello your thread by gabbar . sit gives clean cheat to narendra modi on gujarat... enjoy this  : [1]\n",
      "thank you modiji we now know what is the biggest danger to our democracy via thewire in : [0]\n",
      " doodleforfood in person you aren t is worse for most english dialects simply because it can be more easily misu  : [0]\n",
      " aejfwk ivua be ipf org think it will backfire. don t think the gujarat electorate is going to vote saffron bec  : [0]\n",
      " narayanan india debt before modi lac crores. after modi lac crores. tax income for india before  : [1]\n",
      " drbosebharat pmoindia narendramodi narendramodi in amitshah piyushgoyal don t we do our little bit.... al  : [1]\n",
      " cnnnews gupta reenag shehzad ind shivanigupta just ask this bjp spokesperson that the intoxication that is  : [1]\n",
      " thenewsminute dirty modi government honors terrorists and deals with them as heroes what is the message they send  : [1]\n",
      "mr modi the same is done by captain amninder singh .punjab revenue from excise which is now estimated crorrs w  : [1]\n",
      " rshivshankar didn t it publish howdy modi event in the us : [1]\n",
      "indian modi government is totally corrupted and gangster. nobody is to poor and common peoples in india. no rules n  : [0]\n",
      "modi controlled godi media hardly ever talks about achievements of aap. also modi never let manish sisodia satyen  : [1]\n",
      "of course modi is the best ever economist this planet has seen. double ph.d  : [1]\n",
      "new delhi i ve requested modi govt to do whatever is necessary to sustain sheikh hasina s govt. bangladesh s  : [1]\n",
      "held meeting with bjp youth wing members it social media members and mandal president in alappuzha kerala. dis  : [1]\n",
      "when we have so many idiot here in india who even don t read the news article then no wonder why modi is pm of i  : [0]\n",
      "manish sisodia took some decisions on liquor policy of delhi government causing revenue loss...now he is raided by  : [1]\n",
      " dr rizwanahmed for these nations it is blasphemy when it comes to their religion but they can insult other religio  : [0]\n",
      " syedsahilnaqvi dirty modi government honors terrorists and deals with them as heroes what is the message they se  : [1]\n",
      " supremecourt supreme women s bible site modi cant develop india without revamping courts  : [1]\n",
      "due to yogi and hemanta bishwa sharma people are still voting for bjp or else kejriwal would have replaced modi  : [1]\n",
      " adityarajkaul reality is when hindu terrorist like modi amp shah bcmz pm amp hm these paid journalists barking sinc  : [1]\n",
      " nytimes in your published news positive news about arvind kejriwal s education modal . now indian modi governmen  : [0]\n",
      " imac too kejri is on ford foundation payrollnyt loves anyone who hates modi amp kejri fits the bill no surprises aap  : [1]\n",
      " bjp india cost of lgp is rs in and in . looting poor people money by modi. : [0]\n",
      " saketgokhale modi will definitely launch har ghar ed campaign unless politicians join bjp amp become doodh ka dhula amp rapists gang  : [1]\n",
      "weekend arrived faster than modi s lie. : [1]\n",
      " rshivshankar modi s favourite pet giving lecture on crooked foreign crutches... : [0]\n",
      " dr rizwanahmed regret for her comments. but after or days controversy erupts as zooo bears handlers have ask  : [1]\n",
      "joshi should pressure bommai to clear power companies dues to get out of power crisis. bommai efficiently collected  : [1]\n"
     ]
    }
   ],
   "source": [
    "total_pos = 0\n",
    "total_neg = 0\n",
    "for tweet in list_tweets:\n",
    "    tweet = re.sub(r'^https://t.co/[a-zA-Z0-9]*\\s', ' ',tweet)\n",
    "    tweet = re.sub(r'\\s+https://t.co/[a-zA-Z0-9]*\\s', ' ',tweet)\n",
    "    tweet = re.sub(r'https://t.co/[a-zA-Z0-9]*$', ' ',tweet)\n",
    "    tweet = tweet.lower()\n",
    "    tweet = re.sub(r\"that's\", \"that is\",tweet)\n",
    "    tweet = re.sub(r\"what's\", \"what is\",tweet)\n",
    "    tweet = re.sub(r\"where's\", \"where is\",tweet)\n",
    "    tweet = re.sub(r\"it's\", \"it is\",tweet)\n",
    "    tweet = re.sub(r\"who's\", \"who is\",tweet)\n",
    "    tweet = re.sub(r\"i'm\", \"i am\",tweet)\n",
    "    tweet = re.sub(r\"she's\", \"she is\",tweet)\n",
    "    tweet = re.sub(r\"he's\", \"he is\",tweet)\n",
    "    tweet = re.sub(r\"they're\", \"they are\",tweet)\n",
    "    tweet = re.sub(r\"who're\", \"who are\",tweet)\n",
    "    tweet = re.sub(r\"ain't\", \"am not\",tweet)\n",
    "    tweet = re.sub(r\"wouldn't\", \"would not\",tweet)\n",
    "    tweet = re.sub(r\"shouldn't\", \"should not\",tweet)\n",
    "    tweet = re.sub(r\"can't\", \"can not\",tweet)\n",
    "    tweet = re.sub(r\"couldn't\", \"could not\",tweet)\n",
    "    tweet = re.sub(r\"wouldn't\", \"would not\",tweet)\n",
    "    tweet = re.sub(r\"\\d\", \" \",tweet)\n",
    "    tweet = re.sub(r\"\\s+[a-z]\\s+\", \" \",tweet)\n",
    "    tweet = re.sub(r\"\\s+[a-z]$\", \" \",tweet)\n",
    "    tweet = re.sub(r\"^[a-z]\\s+\", \" \",tweet)\n",
    "    tweet = re.sub(r\"[^a-z\\.]\", \" \",tweet)\n",
    "    tweet = re.sub(r\"\\s+\", \" \",tweet)\n",
    "    \n",
    "    \n",
    "    sent = clf.predict(vectorizer.transform([tweet]).toarray())\n",
    "    print(tweet, \":\" ,sent)\n",
    "    \n",
    "    if sent[0] == 1:\n",
    "        total_pos += 1\n",
    "    else:\n",
    "        total_neg +=1"
   ]
  },
  {
   "cell_type": "code",
   "execution_count": 20,
   "id": "c24e8f61",
   "metadata": {},
   "outputs": [
    {
     "data": {
      "text/plain": [
       "64"
      ]
     },
     "execution_count": 20,
     "metadata": {},
     "output_type": "execute_result"
    }
   ],
   "source": [
    "total_pos"
   ]
  },
  {
   "cell_type": "code",
   "execution_count": 21,
   "id": "69727371",
   "metadata": {},
   "outputs": [
    {
     "data": {
      "text/plain": [
       "36"
      ]
     },
     "execution_count": 21,
     "metadata": {},
     "output_type": "execute_result"
    }
   ],
   "source": [
    "total_neg"
   ]
  },
  {
   "cell_type": "code",
   "execution_count": null,
   "id": "92490687",
   "metadata": {},
   "outputs": [],
   "source": []
  }
 ],
 "metadata": {
  "kernelspec": {
   "display_name": "Python 3 (ipykernel)",
   "language": "python",
   "name": "python3"
  },
  "language_info": {
   "codemirror_mode": {
    "name": "ipython",
    "version": 3
   },
   "file_extension": ".py",
   "mimetype": "text/x-python",
   "name": "python",
   "nbconvert_exporter": "python",
   "pygments_lexer": "ipython3",
   "version": "3.9.12"
  }
 },
 "nbformat": 4,
 "nbformat_minor": 5
}
